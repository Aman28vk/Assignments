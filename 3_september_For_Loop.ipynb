{
 "cells": [
  {
   "cell_type": "code",
   "execution_count": 5,
   "id": "0b44dce5-def0-4abb-9260-473eea7f9f67",
   "metadata": {},
   "outputs": [
    {
     "name": "stdout",
     "output_type": "stream",
     "text": [
      "1\n",
      "2\n",
      "3\n",
      "4\n",
      "5\n",
      "6\n",
      "7\n",
      "8\n",
      "9\n",
      "10\n"
     ]
    }
   ],
   "source": [
    "#Q1.Write a Python program to print the numbers from 1 to 10 using a `for` loop.\n",
    "for i in range(1,11):\n",
    "    print(i)\n"
   ]
  },
  {
   "cell_type": "code",
   "execution_count": 16,
   "id": "a4cb7fd5-7a33-4976-8753-6d00657d3ccd",
   "metadata": {},
   "outputs": [
    {
     "name": "stdout",
     "output_type": "stream",
     "text": [
      "10\n"
     ]
    }
   ],
   "source": [
    "#Q2.Create a program that calculates the sum of all numbers in a list using a `for` loop.\n",
    "number=[1,2,3,4]\n",
    "sum=0\n",
    "for i in number:\n",
    "    sum+=i\n",
    "print(sum)\n"
   ]
  },
  {
   "cell_type": "code",
   "execution_count": 20,
   "id": "f163d7b9-31da-4634-b465-ba36073132b1",
   "metadata": {},
   "outputs": [
    {
     "name": "stdout",
     "output_type": "stream",
     "text": [
      "r\n",
      "a\n",
      "m\n",
      "u\n",
      "K\n",
      " \n",
      "n\n",
      "a\n",
      "m\n",
      "m\n",
      "A\n"
     ]
    }
   ],
   "source": [
    "#Q3. Write a program to print the characters of a string in reverse order using a `for` loop.\n",
    "string='Amman Kumar'\n",
    "for i in reversed(string):\n",
    "    print(i)"
   ]
  },
  {
   "cell_type": "code",
   "execution_count": 26,
   "id": "072a7dc9-aceb-43f1-b87b-d3b07c999e4b",
   "metadata": {},
   "outputs": [
    {
     "name": "stdin",
     "output_type": "stream",
     "text": [
      "enter the number you wnat to take factoral of? 3\n"
     ]
    },
    {
     "name": "stdout",
     "output_type": "stream",
     "text": [
      "6\n"
     ]
    }
   ],
   "source": [
    "# Q4.Develop a program that finds the factorial of a given number using a `for` loop.\n",
    "n=int(input('enter the number you wnat to take factoral of?'))\n",
    "factorial=1\n",
    "for i in range(1,n+1):\n",
    "    factorial *= i\n",
    "print(factorial)"
   ]
  },
  {
   "cell_type": "code",
   "execution_count": 38,
   "id": "7b9926c1-fecc-49d7-96dd-2b3ae89758ee",
   "metadata": {},
   "outputs": [
    {
     "name": "stdin",
     "output_type": "stream",
     "text": [
      "Give number You want the output 4\n"
     ]
    },
    {
     "name": "stdout",
     "output_type": "stream",
     "text": [
      "4  x  1 = 4\n",
      "4  x  2 = 8\n",
      "4  x  3 = 12\n",
      "4  x  4 = 16\n",
      "4  x  5 = 20\n",
      "4  x  6 = 24\n",
      "4  x  7 = 28\n",
      "4  x  8 = 32\n",
      "4  x  9 = 36\n",
      "4  x  10 = 40\n"
     ]
    }
   ],
   "source": [
    "# Q5. Create a program to print the multiplication table of a given number using a `for` loop.\n",
    "x=int(input('Give number You want the output'))\n",
    "for i in range(1, 11):\n",
    "    table=x*i\n",
    "    print(x,' x ', i, '=',table)"
   ]
  },
  {
   "cell_type": "code",
   "execution_count": 57,
   "id": "bb581553-38e3-4285-a25e-b2b4aa30204a",
   "metadata": {},
   "outputs": [
    {
     "name": "stdout",
     "output_type": "stream",
     "text": [
      "The number of even numbers is: 5\n",
      "The number of odd numbers is: 5\n"
     ]
    }
   ],
   "source": [
    "#Q6. Write a program that counts the number of even and odd numbers in a list using a `for` loop.\n",
    "l=[1,2,3,4,5,6,7,8,9,10]\n",
    "odd_count=0\n",
    "even_count=0\n",
    "\n",
    "for i in l:\n",
    "    if i % 2==0:\n",
    "      even_count+=1\n",
    "    else:\n",
    "       odd_count+=1\n",
    "print(\"The number of even numbers is:\", even_count)\n",
    "print(\"The number of odd numbers is:\", odd_count)"
   ]
  },
  {
   "cell_type": "code",
   "execution_count": 62,
   "id": "06bb08ac-698a-4456-8a42-044b9f348268",
   "metadata": {},
   "outputs": [
    {
     "name": "stdout",
     "output_type": "stream",
     "text": [
      "1\n",
      "4\n",
      "9\n",
      "16\n",
      "25\n"
     ]
    }
   ],
   "source": [
    "#Q7.Develop a program that prints the squares of numbers from 1 to 5 using a `for` loop.\n",
    "for i in range(1,6):\n",
    "    print(i*i)\n"
   ]
  },
  {
   "cell_type": "code",
   "execution_count": 87,
   "id": "fe86cef6-242e-4674-91e0-df13a1e52156",
   "metadata": {},
   "outputs": [
    {
     "name": "stdout",
     "output_type": "stream",
     "text": [
      "The length of the string is: 4\n"
     ]
    }
   ],
   "source": [
    "#Q8.Create a program to find the length of a string without using the `len()` function.\n",
    "def find_length_of_string(string):\n",
    "  length = 0\n",
    "  for i in string:\n",
    "    length += 1\n",
    "  return length\n",
    "\n",
    "string = \"Aman\"\n",
    "length = find_length_of_string(string)\n",
    "print(\"The length of the string is:\", length)"
   ]
  },
  {
   "cell_type": "code",
   "execution_count": 121,
   "id": "e6948d0f-2142-450c-8acb-db094b3b661e",
   "metadata": {},
   "outputs": [
    {
     "name": "stdout",
     "output_type": "stream",
     "text": [
      "average of given list= 5.5\n"
     ]
    }
   ],
   "source": [
    "#Q9.Write a program that calculates the average of a list of numbers using a `for` loop.\n",
    "list_of_numbers=[1,2,3,4,5,6,7,8,9,10]\n",
    "count=0\n",
    "length_of_list=len(list_of_numbers)\n",
    "\n",
    "for i in list_of_numbers:\n",
    "     count +=i\n",
    "     average= count / length_of_list\n",
    "print('average of given list=', average)"
   ]
  },
  {
   "cell_type": "code",
   "execution_count": 123,
   "id": "6b1b1861-43ca-4b96-bd79-47f1e9f1fdd7",
   "metadata": {},
   "outputs": [
    {
     "name": "stdin",
     "output_type": "stream",
     "text": [
      "Enter the number of Fibonacci numbers to print:  5\n"
     ]
    },
    {
     "name": "stdout",
     "output_type": "stream",
     "text": [
      "0\n",
      "1\n",
      "1\n",
      "2\n",
      "3\n"
     ]
    }
   ],
   "source": [
    "#Q10.Develop a program that prints the first `n` Fibonacci numbers using a `for` loop.\n",
    "n = int(input(\"Enter the number of Fibonacci numbers to print: \"))\n",
    "\n",
    "a, b = 0, 1\n",
    "for i in range(n):\n",
    "  print(a)\n",
    "  a, b = b, a + b"
   ]
  }
 ],
 "metadata": {
  "kernelspec": {
   "display_name": "Python 3 (ipykernel)",
   "language": "python",
   "name": "python3"
  },
  "language_info": {
   "codemirror_mode": {
    "name": "ipython",
    "version": 3
   },
   "file_extension": ".py",
   "mimetype": "text/x-python",
   "name": "python",
   "nbconvert_exporter": "python",
   "pygments_lexer": "ipython3",
   "version": "3.10.8"
  }
 },
 "nbformat": 4,
 "nbformat_minor": 5
}
