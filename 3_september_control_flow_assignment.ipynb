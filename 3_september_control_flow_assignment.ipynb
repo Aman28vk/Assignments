{
 "cells": [
  {
   "cell_type": "code",
   "execution_count": 1,
   "id": "6b984e72-feaf-403a-8142-4eaaf5fc5827",
   "metadata": {},
   "outputs": [
    {
     "name": "stdin",
     "output_type": "stream",
     "text": [
      "give your number to chck 2\n"
     ]
    },
    {
     "name": "stdout",
     "output_type": "stream",
     "text": [
      "Your number is a positive number\n"
     ]
    }
   ],
   "source": [
    "#Q1. Write a Python program to check if a given number is positive or negative.\n",
    "x=int(input(\"give your number to chck\"))\n",
    "if x>=0:\n",
    " print(\"Your number is a positive number\")\n",
    "else:\n",
    "    print(\"Your number is a negative number\")"
   ]
  },
  {
   "cell_type": "code",
   "execution_count": 2,
   "id": "3c6b6092-5e73-4e80-a914-8ba3abb8d2b5",
   "metadata": {},
   "outputs": [
    {
     "name": "stdin",
     "output_type": "stream",
     "text": [
      "Enter your age 2\n"
     ]
    },
    {
     "name": "stdout",
     "output_type": "stream",
     "text": [
      "You are not elegible to vote\n"
     ]
    }
   ],
   "source": [
    "#Q2. Create a program that determines if a person is eligible to vote based on their age.\n",
    "age=int(input(\"Enter your age\"))\n",
    "if age>=18:\n",
    "    print('You are eligible to vote')\n",
    "else:\n",
    "        print(\"You are not elegible to vote\")"
   ]
  },
  {
   "cell_type": "code",
   "execution_count": 3,
   "id": "ecafb238-ed7d-4a4a-a8f7-8f3e3f644471",
   "metadata": {},
   "outputs": [
    {
     "name": "stdin",
     "output_type": "stream",
     "text": [
      "Enter your 1st number 2\n",
      "Enter your 2nd number 2\n"
     ]
    },
    {
     "name": "stdout",
     "output_type": "stream",
     "text": [
      "both are equal\n"
     ]
    }
   ],
   "source": [
    "#Q3.Develop a program to find the maximum of two numbers using if-else statements.\n",
    "x=int(input('Enter your 1st number'))\n",
    "y=int(input('Enter your 2nd number'))\n",
    "if x>y:\n",
    "    print(x,'is maximum betwen given number')\n",
    "elif x==y:\n",
    "    print('both are equal')\n",
    "else:\n",
    "    print(y,'is maximum betwwn given number')\n",
    "    "
   ]
  },
  {
   "cell_type": "code",
   "execution_count": 4,
   "id": "f7cfa6fc-002d-4fb1-982c-03a5da9415dc",
   "metadata": {},
   "outputs": [
    {
     "name": "stdin",
     "output_type": "stream",
     "text": [
      "Enter the year to check 2334\n"
     ]
    },
    {
     "name": "stdout",
     "output_type": "stream",
     "text": [
      "given number is not a leap year\n"
     ]
    }
   ],
   "source": [
    "#Q4. Write a Python script to classify a given year as a leap year or not.\n",
    "Year=int(input('Enter the year to check'))\n",
    "if Year % 400 == 0 or Year % 4 == 0:\n",
    " print('Yess the given number is a leap year')\n",
    "elif Year % 100 == 0:\n",
    " print('No the given number is Not a leap year')\n",
    "else:\n",
    "    print('given number is not a leap year')\n",
    "            "
   ]
  },
  {
   "cell_type": "code",
   "execution_count": 5,
   "id": "ea7d2b6a-95f4-47e3-aeda-0ea6fa40e054",
   "metadata": {},
   "outputs": [
    {
     "name": "stdin",
     "output_type": "stream",
     "text": [
      "Enter the character w\n"
     ]
    },
    {
     "name": "stdout",
     "output_type": "stream",
     "text": [
      "No, The character is not vowal\n"
     ]
    }
   ],
   "source": [
    "#Q5. Create a program that checks whether a character is a vowel or a consonant.\n",
    "x=str.lower(input('Enter the character'))\n",
    "vowel=('a,e,i,o,u')\n",
    "if x in vowel:\n",
    "    print('yess, The character is vowel')\n",
    "else:\n",
    "    print('No, The character is not vowal')"
   ]
  },
  {
   "cell_type": "code",
   "execution_count": 7,
   "id": "e43ad67a-574b-409a-8ad4-1e7e202ea9e8",
   "metadata": {},
   "outputs": [
    {
     "name": "stdin",
     "output_type": "stream",
     "text": [
      "Give the number to check 1\n"
     ]
    },
    {
     "name": "stdout",
     "output_type": "stream",
     "text": [
      "The given number is Odd\n"
     ]
    }
   ],
   "source": [
    "#Q6. Implement a program to determine whether a given number is even or odd.\n",
    "number=int(input('Give the number to check'))\n",
    "if number%2==0:\n",
    "    print('The given number is Even')\n",
    "else:\n",
    "    print('The given number is Odd')"
   ]
  },
  {
   "cell_type": "code",
   "execution_count": 13,
   "id": "6f883ffe-06a1-4981-ba5d-c64dd320293f",
   "metadata": {},
   "outputs": [
    {
     "name": "stdin",
     "output_type": "stream",
     "text": [
      "Give the number 2\n"
     ]
    },
    {
     "name": "stdout",
     "output_type": "stream",
     "text": [
      "2\n"
     ]
    }
   ],
   "source": [
    "#Q7. Write a Python function to calculate the absolute value of a number without using the `abs()` function.\n",
    "number=int(input('Give the number'))\n",
    "if number >= 0:\n",
    " print(number) \n",
    "else:\n",
    "    print( -number)\n",
    "    "
   ]
  },
  {
   "cell_type": "code",
   "execution_count": 26,
   "id": "a5e6d091-e6c2-4016-9aee-67491b547f5b",
   "metadata": {},
   "outputs": [
    {
     "name": "stdin",
     "output_type": "stream",
     "text": [
      "Enter your 1st number 1\n",
      "Enter your 2nd number 2\n",
      "Enter your 3nd number 2\n"
     ]
    },
    {
     "name": "stdout",
     "output_type": "stream",
     "text": [
      "2 is maximum between given number\n"
     ]
    }
   ],
   "source": [
    "#Q8. Develop a program that determines the largest of three given numbers using if-else statements.\n",
    "x=int(input('Enter your 1st number'))\n",
    "y=int(input('Enter your 2nd number'))\n",
    "z=int(input('Enter your 3nd number'))\n",
    "if x>y and x>z:\n",
    "    print(x,'is maximum between given number')\n",
    "elif y>x and y>z:\n",
    "    print(y,'is maximum between given number')\n",
    "elif x==y==z:\n",
    "    print('three of them are equal')\n",
    "else:\n",
    "    print(z,'is maximum between given number')\n"
   ]
  },
  {
   "cell_type": "code",
   "execution_count": 31,
   "id": "a0bd36a9-3af6-4973-af8d-c1ff233d19d6",
   "metadata": {},
   "outputs": [
    {
     "name": "stdin",
     "output_type": "stream",
     "text": [
      "Enter your Word to check 121\n"
     ]
    },
    {
     "name": "stdout",
     "output_type": "stream",
     "text": [
      "It is a palindrome.\n"
     ]
    }
   ],
   "source": [
    "#Q9. Create a program that checks if a given string is a palindrome.\n",
    "x=str(input('Enter your Word to check'))\n",
    "reversed_x = x[::-1]\n",
    "if x==reversed_x:\n",
    "    print('It is a palindrome.')\n",
    "else:\n",
    "    print('It is not a palindrome.')"
   ]
  },
  {
   "cell_type": "code",
   "execution_count": 45,
   "id": "62e4a4d6-8b31-4ee2-bcb1-9a3279d60f9a",
   "metadata": {},
   "outputs": [
    {
     "name": "stdin",
     "output_type": "stream",
     "text": [
      "Input the Score 2\n"
     ]
    },
    {
     "name": "stdout",
     "output_type": "stream",
     "text": [
      "Fail\n"
     ]
    }
   ],
   "source": [
    "#Q10. Write a Python program to calculate the grade based on a student's score.\n",
    "x= int(input('Input the Score'))\n",
    "if x>=90 and x<100:\n",
    "       print('Outstanding')\n",
    "elif x>=80 and x<90:\n",
    "       print('very good')\n",
    "elif x>=70 and x<80:\n",
    "       print('Good')\n",
    "elif x>=60 and x<70:\n",
    "       print('Need Improvemnt')\n",
    "elif x>=50 and x<60:\n",
    "       print('Bad')\n",
    "elif x>=40 and x<50:\n",
    "       print('Very Bad')\n",
    "elif x>=100:\n",
    "       print('invalid output')\n",
    "else:\n",
    "    print('Fail')"
   ]
  },
  {
   "cell_type": "code",
   "execution_count": null,
   "id": "eb526600-7db7-4845-8e8a-1c289a28820f",
   "metadata": {},
   "outputs": [],
   "source": []
  }
 ],
 "metadata": {
  "kernelspec": {
   "display_name": "Python 3 (ipykernel)",
   "language": "python",
   "name": "python3"
  },
  "language_info": {
   "codemirror_mode": {
    "name": "ipython",
    "version": 3
   },
   "file_extension": ".py",
   "mimetype": "text/x-python",
   "name": "python",
   "nbconvert_exporter": "python",
   "pygments_lexer": "ipython3",
   "version": "3.10.8"
  }
 },
 "nbformat": 4,
 "nbformat_minor": 5
}
