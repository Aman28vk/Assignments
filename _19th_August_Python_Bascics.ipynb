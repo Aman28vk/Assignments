{
 "cells": [
  {
   "cell_type": "code",
   "execution_count": null,
   "id": "c437e657-a007-4cdd-be53-3c4b87744a0e",
   "metadata": {},
   "outputs": [],
   "source": [
    "#TOPIC: Python Basics Variable"
   ]
  },
  {
   "cell_type": "code",
   "execution_count": 6,
   "id": "74f3d346-7f7c-4542-a3fd-74ad9254453b",
   "metadata": {},
   "outputs": [
    {
     "name": "stdout",
     "output_type": "stream",
     "text": [
      "After swaping the values\n",
      "value of x= 10\n",
      "vlaue of y= 20\n"
     ]
    }
   ],
   "source": [
    "'''\n",
    "Q1.Declare two variables, `x` and `y`, and assign them integer values.\n",
    "Swap the values of these variables without using any temporary\n",
    "variable.\n",
    "'''\n",
    "x=20\n",
    "y=10\n",
    "x=x+y\n",
    "y=x-y\n",
    "x=x-y\n",
    "print(\"After swaping the values\")\n",
    "print(\"value of x=\",x)\n",
    "print(\"vlaue of y=\",y)"
   ]
  },
  {
   "cell_type": "code",
   "execution_count": 12,
   "id": "9b6f6f93-76d2-4ee7-8d5f-8a16233f28d2",
   "metadata": {},
   "outputs": [
    {
     "name": "stdin",
     "output_type": "stream",
     "text": [
      "Give Length 3\n",
      "Give width 3\n"
     ]
    },
    {
     "name": "stdout",
     "output_type": "stream",
     "text": [
      "Area for the given lemgth and Width is 9.0\n"
     ]
    }
   ],
   "source": [
    "'''\n",
    "Q2.Create a program that calculates the area of a rectangle. Take the\n",
    "length and width as inputs from the user and store them in variables.\n",
    "Calculate and display the area.\n",
    "'''\n",
    "x=float(input(\"Give Length\"))\n",
    "y=float(input(\"Give width\"))\n",
    "area=x*y\n",
    "print(\"Area for the given lemgth and Width is\", area)\n",
    "\n"
   ]
  },
  {
   "cell_type": "code",
   "execution_count": 17,
   "id": "475e8013-b48f-4d38-bcd6-38cce5c26652",
   "metadata": {},
   "outputs": [
    {
     "name": "stdin",
     "output_type": "stream",
     "text": [
      "Give the value of temperature in celsius 1\n"
     ]
    },
    {
     "name": "stdout",
     "output_type": "stream",
     "text": [
      "The give temperture in Fahrenheit is 33.8\n"
     ]
    }
   ],
   "source": [
    "'''\n",
    "Q3.Write a Python program that converts temperature from Celsius to\n",
    "Fahrenheit. Take the temperature in Celsius as input, store it in a\n",
    "variable, convert it to Fahrenheit, and display the result.\n",
    "'''\n",
    "x=float(input(\"Give the value of temperature in celsius\"))\n",
    "y=x*1.8 + 32\n",
    "print(\"The give temperture in Fahrenheit is\",y)"
   ]
  },
  {
   "cell_type": "code",
   "execution_count": 18,
   "id": "a70bb308-6a76-49eb-aa5e-cbce7c05bb96",
   "metadata": {},
   "outputs": [],
   "source": [
    "#TOPIC: String Based Questions"
   ]
  },
  {
   "cell_type": "code",
   "execution_count": 24,
   "id": "8c899e71-801a-47d9-816d-68736ea15156",
   "metadata": {},
   "outputs": [
    {
     "name": "stdin",
     "output_type": "stream",
     "text": [
      "give any sentence as\n"
     ]
    },
    {
     "name": "stdout",
     "output_type": "stream",
     "text": [
      "Length of the given string is 2\n"
     ]
    }
   ],
   "source": [
    "'''\n",
    "Q1.Write a Python program that takes a string as input and prints the\n",
    "length of the string.\n",
    "'''\n",
    "x=str(input(\"give any sentence\"))\n",
    "y=len(x)\n",
    "print(\"Length of the given string is\",y)"
   ]
  },
  {
   "cell_type": "code",
   "execution_count": 32,
   "id": "3d4a754d-6b91-4a86-a1c5-7b9d8745d504",
   "metadata": {},
   "outputs": [
    {
     "name": "stdin",
     "output_type": "stream",
     "text": [
      "Write any sentence aman\n"
     ]
    },
    {
     "name": "stdout",
     "output_type": "stream",
     "text": [
      "2\n"
     ]
    }
   ],
   "source": [
    "'''\n",
    "Q2.Create a program that takes a sentence from the user and counts the\n",
    "number of vowels (a, e, i, o, u) in the string.\n",
    "'''\n",
    "x=str(input(\"Write any sentence\"))\n",
    "y=x.count('a')\n",
    "y=y+x.count('e')\n",
    "y=y+x.count('i')\n",
    "y=y+x.count('o')\n",
    "y=y+x.count('u')\n",
    "\n",
    "print(y)"
   ]
  },
  {
   "cell_type": "code",
   "execution_count": 34,
   "id": "902d59e0-6e36-4ee5-a922-65c7057f5596",
   "metadata": {},
   "outputs": [
    {
     "name": "stdin",
     "output_type": "stream",
     "text": [
      "Give your sentence  aman\n"
     ]
    },
    {
     "name": "stdout",
     "output_type": "stream",
     "text": [
      "nama\n"
     ]
    }
   ],
   "source": [
    "'''\n",
    "Q3.Given a string, reverse the order of characters using string slicing and\n",
    "print the reversed string.\n",
    "'''\n",
    "x=str(input(\"Give your sentence \"))\n",
    "print(x[::-1])"
   ]
  },
  {
   "cell_type": "code",
   "execution_count": 42,
   "id": "054df0b6-22ba-4717-a262-a93cabd1a4fc",
   "metadata": {},
   "outputs": [
    {
     "name": "stdin",
     "output_type": "stream",
     "text": [
      "Give your sentence aman\n"
     ]
    },
    {
     "name": "stdout",
     "output_type": "stream",
     "text": [
      "no!The given Word is not a palindrom\n"
     ]
    }
   ],
   "source": [
    "'''\n",
    "Q4.Write a program that takes a string as input and checks if it is a\n",
    "palindrome (reads the same forwards and backwards).\n",
    "'''\n",
    "x=str(input(\"Give your sentence\"))\n",
    "y=x[::-1]\n",
    "if x==y:\n",
    "    print(\"Yes! The given Word is a palindrom\")\n",
    "else:\n",
    "    print(\"no!The given Word is not a palindrom\")\n",
    "    "
   ]
  },
  {
   "cell_type": "code",
   "execution_count": 45,
   "id": "10c088ec-b20a-4fe3-a9af-14fadbc3e3e4",
   "metadata": {},
   "outputs": [
    {
     "name": "stdin",
     "output_type": "stream",
     "text": [
      "Write your sentence my name\n"
     ]
    },
    {
     "name": "stdout",
     "output_type": "stream",
     "text": [
      "myname\n"
     ]
    }
   ],
   "source": [
    "''''\n",
    "Q5.Create a program that takes a string as input and removes all the\n",
    "spaces from it. Print the modified string without spaces.\n",
    "'''\n",
    "x=str(input(\"Write your sentence\"))\n",
    "y=x.replace(\" \",\"\")\n",
    "print(y)"
   ]
  }
 ],
 "metadata": {
  "kernelspec": {
   "display_name": "Python 3 (ipykernel)",
   "language": "python",
   "name": "python3"
  },
  "language_info": {
   "codemirror_mode": {
    "name": "ipython",
    "version": 3
   },
   "file_extension": ".py",
   "mimetype": "text/x-python",
   "name": "python",
   "nbconvert_exporter": "python",
   "pygments_lexer": "ipython3",
   "version": "3.10.8"
  }
 },
 "nbformat": 4,
 "nbformat_minor": 5
}
